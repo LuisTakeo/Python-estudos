{
 "cells": [
  {
   "cell_type": "code",
   "execution_count": 7,
   "id": "28cd8cde",
   "metadata": {},
   "outputs": [
    {
     "data": {
      "text/plain": [
       "1"
      ]
     },
     "execution_count": 7,
     "metadata": {},
     "output_type": "execute_result"
    }
   ],
   "source": [
    "1 + 3\n",
    "3 // 2"
   ]
  },
  {
   "cell_type": "code",
   "execution_count": 5,
   "id": "866832a1",
   "metadata": {},
   "outputs": [
    {
     "name": "stdout",
     "output_type": "stream",
     "text": [
      "256\n",
      "8\n"
     ]
    }
   ],
   "source": [
    "print(2 ** 8)\n",
    "print(3 + 5)"
   ]
  },
  {
   "cell_type": "code",
   "execution_count": 3,
   "id": "7e262d47",
   "metadata": {},
   "outputs": [
    {
     "name": "stdout",
     "output_type": "stream",
     "text": [
      "teste jupyter\n"
     ]
    }
   ],
   "source": [
    "print('teste jupyter')"
   ]
  },
  {
   "cell_type": "markdown",
   "id": "08e46a9d",
   "metadata": {},
   "source": [
    "# Teste jupiter"
   ]
  },
  {
   "cell_type": "code",
   "execution_count": 8,
   "id": "4a9ca308",
   "metadata": {},
   "outputs": [
    {
     "name": "stdout",
     "output_type": "stream",
     "text": [
      "7 3\n"
     ]
    }
   ],
   "source": [
    "a = 3\n",
    "b = 7\n",
    "\n",
    "a, b = b, a\n",
    "\n",
    "print(a, b)"
   ]
  }
 ],
 "metadata": {
  "kernelspec": {
   "display_name": "Python 3 (ipykernel)",
   "language": "python",
   "name": "python3"
  },
  "language_info": {
   "codemirror_mode": {
    "name": "ipython",
    "version": 3
   },
   "file_extension": ".py",
   "mimetype": "text/x-python",
   "name": "python",
   "nbconvert_exporter": "python",
   "pygments_lexer": "ipython3",
   "version": "3.9.13"
  }
 },
 "nbformat": 4,
 "nbformat_minor": 5
}
