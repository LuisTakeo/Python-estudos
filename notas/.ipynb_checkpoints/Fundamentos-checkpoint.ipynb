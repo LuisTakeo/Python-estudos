{
 "cells": [
  {
   "cell_type": "markdown",
   "id": "206a2344",
   "metadata": {},
   "source": [
    "#  Primeiros exemplos"
   ]
  },
  {
   "cell_type": "code",
   "execution_count": null,
   "id": "c24e8bcf",
   "metadata": {},
   "outputs": [],
   "source": [
    "print('primeiro programa')\n",
    "1 + 2\n",
    "\n",
    "help(print)"
   ]
  },
  {
   "cell_type": "code",
   "execution_count": null,
   "id": "040b53c7",
   "metadata": {},
   "outputs": [],
   "source": [
    "1 + 2 + 3\n",
    "4 + 5 + 6"
   ]
  },
  {
   "cell_type": "code",
   "execution_count": null,
   "id": "878fcb94",
   "metadata": {
    "scrolled": true
   },
   "outputs": [],
   "source": [
    "print(1 + 2 + 3)\n",
    "print(4 + 5 + 6)"
   ]
  },
  {
   "cell_type": "markdown",
   "id": "0641f62c",
   "metadata": {},
   "source": [
    "#  Tipos Básicos"
   ]
  },
  {
   "cell_type": "code",
   "execution_count": null,
   "id": "7e74f7f6",
   "metadata": {},
   "outputs": [],
   "source": [
    "print(True)\n",
    "print(False)\n",
    "print(1.2 + 1)\n",
    "print('Aqui é um texto')\n",
    "print(\"Aqui também funciona\")\n",
    "print('Você é ' + 3 * 'muito ' + 'legal')\n",
    "# print(3 + '3') -> ambiguidade\n",
    "print([1, 2, 3]) #lista\n",
    "print({'nome': 'Pedro', 'idade': 33})\n",
    "print(None)"
   ]
  },
  {
   "cell_type": "markdown",
   "id": "360a621a",
   "metadata": {},
   "source": [
    "# Variáveis"
   ]
  },
  {
   "cell_type": "code",
   "execution_count": null,
   "id": "f7c9dd05",
   "metadata": {},
   "outputs": [],
   "source": [
    "a = 10\n",
    "b = 5.2\n",
    "\n",
    "print(a + b)\n",
    "\n",
    "a = 'Agora sou uma string'\n",
    "print(a)\n",
    "a\n",
    "b\n",
    "\n",
    "# print(a + b)"
   ]
  },
  {
   "cell_type": "markdown",
   "id": "c5792e5a",
   "metadata": {},
   "source": [
    "# Comentários "
   ]
  },
  {
   "cell_type": "code",
   "execution_count": null,
   "id": "32cdd1ef",
   "metadata": {},
   "outputs": [],
   "source": [
    "# aaaa\n",
    "# aaaa\n",
    "# aaaa\n",
    "\n",
    "\n",
    "# Minhas variáveis\n",
    "salario = 3345.42\n",
    "despesas = 1500.14\n",
    "\n",
    "\"\"\"\n",
    "A idéia é calcular o valor no final do mes\n",
    "\"\"\"\n",
    "print(salario - despesas)\n",
    "\n",
    "# print('Fim')\n",
    "print('Fim de verdade') # Aqui também serve\n",
    "\n",
    "# sempre é bom utilizar bons nomes de variáveis"
   ]
  },
  {
   "cell_type": "markdown",
   "id": "8fea7c11",
   "metadata": {},
   "source": [
    "# Operadores aritméticos"
   ]
  },
  {
   "cell_type": "code",
   "execution_count": null,
   "id": "dc1d044c",
   "metadata": {},
   "outputs": [],
   "source": [
    "print(2 + 3)\n",
    "print(4 - 2.1)\n",
    "print(2 * 5.3)\n",
    "print(9.4 / 3)\n",
    "\n",
    "print(9.4 // 3)\n",
    "print(2 ** 8)\n",
    "print(10 % 3)\n",
    "\n",
    "a = 12\n",
    "b = a\n",
    "print(a + b)"
   ]
  },
  {
   "cell_type": "code",
   "execution_count": null,
   "id": "3925fafc",
   "metadata": {},
   "outputs": [],
   "source": [
    "# Desafio\n",
    "salario = 3345.42\n",
    "despesas = 1500.14\n",
    "\n",
    "# resposta minha\n",
    "um_por_cento = salario / 100\n",
    "porcentagem_despesa_salario = despesas / um_por_cento\n",
    "\n",
    "print(f'{porcentagem_despesa_salario} por cento')\n",
    "\n",
    "# resposta cod3r\n",
    "percentual_comprometido = despesas / salario * 100\n",
    "print(f'{percentual_comprometido} por cento')"
   ]
  },
  {
   "cell_type": "markdown",
   "id": "65e85b55",
   "metadata": {},
   "source": [
    "# Operadores Relacionais "
   ]
  },
  {
   "cell_type": "code",
   "execution_count": null,
   "id": "d8affa33",
   "metadata": {},
   "outputs": [],
   "source": [
    "print(3 > 4)\n",
    "print(4 >= 3)\n",
    "print(1 < 2)\n",
    "print(2 <= 2)\n",
    "print(3 != 2)\n",
    "print(3 == 3)\n",
    "print(3 == '3')"
   ]
  },
  {
   "cell_type": "markdown",
   "id": "caa904d8",
   "metadata": {},
   "source": [
    "# Operadores de atribuição"
   ]
  },
  {
   "cell_type": "code",
   "execution_count": null,
   "id": "c83d8b5b",
   "metadata": {},
   "outputs": [],
   "source": [
    "a = 3\n",
    "a = a + 7\n",
    "a += 5\n",
    "a -= 3\n",
    "a *= 2\n",
    "a /= 4\n",
    "a %= 4\n",
    "a **= 8\n",
    "a //= 256\n",
    "\n",
    "print(a)"
   ]
  },
  {
   "cell_type": "markdown",
   "id": "8250f338",
   "metadata": {},
   "source": [
    "# Operadores lógicos"
   ]
  },
  {
   "cell_type": "code",
   "execution_count": null,
   "id": "213a9830",
   "metadata": {},
   "outputs": [],
   "source": [
    "print(True or False)\n",
    "print(7 != 3 and 2 > 3)\n",
    "\n",
    "# Tabela verdade AND\n",
    "print('')\n",
    "print('Tabela verdade AND')\n",
    "print(True and True)\n",
    "print(False and True)\n",
    "print(True and False)\n",
    "print(False and False)\n",
    "\n",
    "# Tabela verdade OR\n",
    "print('')\n",
    "print('Tabela verdade OR')\n",
    "print(True or True)\n",
    "print(False or True)\n",
    "print(True or False)\n",
    "print(False or False)\n",
    "\n",
    "# Tabela verdade XOR\n",
    "print('')\n",
    "print('Tabela verdade XOR')\n",
    "print(True != True)\n",
    "print(False != True)\n",
    "print(True != False)\n",
    "print(False != False)\n",
    "\n",
    "# Operador de negação (unário)\n",
    "print('')\n",
    "print('Operador de negação (unário)')\n",
    "print(not True)\n",
    "print(not False)\n",
    "print(not 0)\n",
    "print(not not 0)\n",
    "print(not 1)\n",
    "print(not not 1)\n",
    "\n",
    "# Cuidado\n",
    "print('')\n",
    "print(True & False)\n",
    "print(False | True)\n",
    "print(True ^ False)\n",
    "\n",
    "# AND Bit-a-Bit\n",
    "# 3 = 11\n",
    "# 2 = 10\n",
    "# _ = 10\n",
    "print('and bit a bit')\n",
    "print(3 & 2)\n",
    "\n",
    "# OR Bit-a-Bit\n",
    "# 3 = 11\n",
    "# 2 = 10\n",
    "# _ = 11\n",
    "print('and bit a bit')\n",
    "print(3 | 2)\n",
    "\n",
    "# AND Bit-a-Bit\n",
    "# 3 = 11\n",
    "# 2 = 10\n",
    "# _ = 01\n",
    "print('and bit a bit')\n",
    "print(3 ^ 2)\n",
    "\n",
    "# Um pouco de realidade\n",
    "saldo = 1000\n",
    "salario = 4000\n",
    "despesas = 2967\n",
    "\n",
    "saldo_positivo = saldo > 0\n",
    "despesas_controladas = salario - despesas >= 0.2 * salario\n",
    "meta = saldo_positivo and despesas_controladas\n",
    "print(meta)"
   ]
  },
  {
   "cell_type": "code",
   "execution_count": null,
   "id": "1f920e28",
   "metadata": {},
   "outputs": [],
   "source": [
    "# Desafio Operadores lógicos\n",
    "\n",
    "# Os Trabalhos\n",
    "trabalho_terca = False\n",
    "trabalho_quinta = False\n",
    "\n",
    "\"\"\"\n",
    "- Confirmando os 2: TV 50' + sorvete\n",
    "- Confirmando apenas 1: TV 32' + sorvete\n",
    "- Nenhum confirmado: Fica em casa + saude\n",
    "\"\"\"\n",
    "\n",
    "comprou_tv_50 = trabalho_terca and trabalho_quinta \n",
    "comprou_tv_32 = trabalho_terca or trabalho_quinta \n",
    "tomou_sorvete = comprou_tv_50 != comprou_tv_32\n",
    "mais_saudavel = not tomou_sorvete\n",
    "print(\"Tv50={} TV32={} Sorvete={} Saudavel={}\"\n",
    "      .format(comprou_tv_50, comprou_tv_32, tomou_sorvete, mais_saudavel))"
   ]
  },
  {
   "cell_type": "markdown",
   "id": "406a10ca",
   "metadata": {},
   "source": [
    "# Operadores unários"
   ]
  },
  {
   "cell_type": "code",
   "execution_count": null,
   "id": "be4c5443",
   "metadata": {},
   "outputs": [],
   "source": [
    "a = 3\n",
    "a += 1\n",
    "print(a)\n",
    "a = -a\n",
    "print(a)\n",
    "a = -a\n",
    "print(a)\n",
    "\n",
    "print(not 0)\n",
    "print(not 1)\n",
    "\n"
   ]
  },
  {
   "cell_type": "markdown",
   "id": "159a6215",
   "metadata": {},
   "source": [
    "# Operador ternário"
   ]
  },
  {
   "cell_type": "code",
   "execution_count": null,
   "id": "13eae775",
   "metadata": {},
   "outputs": [],
   "source": [
    "esta_chovendo = True\n",
    "print('Hoje estou com as roupas ' + ('secas', 'molhadas')[esta_chovendo])\n",
    "print(f'Hoje estou com as roupas {(\"secas\", \"molhadas\")[esta_chovendo]}')"
   ]
  },
  {
   "cell_type": "markdown",
   "id": "f665f9c9",
   "metadata": {},
   "source": [
    "# Mais operadores"
   ]
  },
  {
   "cell_type": "code",
   "execution_count": null,
   "id": "878095e1",
   "metadata": {},
   "outputs": [],
   "source": [
    "# Operador de Membro\n",
    "lista = [1, 2, 3, 'Ana', 'Carla']\n",
    "print(('2 não está na lista', '2 está na lista')[2 in lista])\n",
    "print(('Ana está na lista', 'Ana não está na lista')['Ana' not in lista])\n",
    "\n",
    "# Operador de Identidade\n",
    "x = 3\n",
    "y = x\n",
    "z = 3\n",
    "print(x is y)\n",
    "print(y is z)\n",
    "print(x is not z)\n",
    "\n",
    "lista_a = [1, 2, 3]\n",
    "lista_b = lista_a\n",
    "lista_c = [1, 2, 3]\n",
    "\n",
    "print('')\n",
    "print(lista_a is lista_b)\n",
    "print(lista_b is lista_c)\n",
    "print(lista_a is not lista_c)"
   ]
  },
  {
   "cell_type": "markdown",
   "id": "4ea118c3",
   "metadata": {},
   "source": [
    "# Builtins"
   ]
  },
  {
   "cell_type": "code",
   "execution_count": 10,
   "id": "f29c14aa",
   "metadata": {},
   "outputs": [
    {
     "name": "stdout",
     "output_type": "stream",
     "text": [
      "<class 'str'>\n",
      "3.3333333333333335\n"
     ]
    },
    {
     "data": {
      "text/plain": [
       "['In',\n",
       " 'Out',\n",
       " '_',\n",
       " '_1',\n",
       " '_2',\n",
       " '_3',\n",
       " '_4',\n",
       " '_5',\n",
       " '_7',\n",
       " '_8',\n",
       " '_9',\n",
       " '__',\n",
       " '___',\n",
       " '__builtin__',\n",
       " '__builtins__',\n",
       " '__doc__',\n",
       " '__loader__',\n",
       " '__name__',\n",
       " '__package__',\n",
       " '__spec__',\n",
       " '_dh',\n",
       " '_i',\n",
       " '_i1',\n",
       " '_i10',\n",
       " '_i2',\n",
       " '_i3',\n",
       " '_i4',\n",
       " '_i5',\n",
       " '_i6',\n",
       " '_i7',\n",
       " '_i8',\n",
       " '_i9',\n",
       " '_ih',\n",
       " '_ii',\n",
       " '_iii',\n",
       " '_oh',\n",
       " 'exit',\n",
       " 'get_ipython',\n",
       " 'math',\n",
       " 'nome',\n",
       " 'quit']"
      ]
     },
     "execution_count": 10,
     "metadata": {},
     "output_type": "execute_result"
    }
   ],
   "source": [
    "print(__builtins__.type('Fala galera'))\n",
    "__builtins__.print(10 / 3)\n",
    "\n",
    "\n",
    "#__builtins__.help(__builtins__.dir)\n",
    "\n",
    "# 1 + 2\n",
    "# _\n",
    "# import math\n",
    "# dir()\n",
    "# dir(__builtins__)\n",
    "\n",
    "nome = 'João da Silva'\n",
    "type(nome)\n",
    "__builtin__.len(nome)\n",
    "\n",
    "dir()"
   ]
  },
  {
   "cell_type": "markdown",
   "id": "11472e56",
   "metadata": {},
   "source": [
    "# Conversão de Tipos"
   ]
  },
  {
   "cell_type": "code",
   "execution_count": 17,
   "id": "c390bf1a",
   "metadata": {},
   "outputs": [
    {
     "name": "stdout",
     "output_type": "stream",
     "text": [
      "5\n",
      "23\n",
      "<class 'int'>\n",
      "<class 'str'>\n",
      "5\n",
      "23\n",
      "<class 'str'>\n",
      "5.4\n"
     ]
    }
   ],
   "source": [
    "print(2 + 3)\n",
    "print('2' + '3')\n",
    "# print(2 + '3')\n",
    "\n",
    "a = 2\n",
    "b = '3'\n",
    "\n",
    "print(type(a))\n",
    "print(type(b))\n",
    "\n",
    "print(a + int(b))\n",
    "print(str(a) + b)\n",
    "\n",
    "print(type(str(a)))\n",
    "\n",
    "# print(2 + int(3.4))\n",
    "print(2 + float(3.4))"
   ]
  },
  {
   "cell_type": "markdown",
   "id": "88d82405",
   "metadata": {},
   "source": [
    "# Coerção automática"
   ]
  },
  {
   "cell_type": "code",
   "execution_count": 20,
   "id": "3e821661",
   "metadata": {},
   "outputs": [
    {
     "name": "stdout",
     "output_type": "stream",
     "text": [
      "5.0\n",
      "<class 'float'>\n",
      "3.3333333333333335\n",
      "3\n",
      "<class 'int'>\n",
      "3.0\n",
      "<class 'float'>\n",
      "4.0\n",
      "3\n",
      "2\n",
      "<class 'int'>\n",
      "<class 'float'>\n"
     ]
    }
   ],
   "source": [
    "print(10 / 2)\n",
    "print(type(10 / 2))\n",
    "print(10 / 3)\n",
    "print(10 // 3)\n",
    "print(type(10 // 3))\n",
    "print(10 // 3.3)\n",
    "print(type(10 // 3.3))\n",
    "print(10 / 2.5)\n",
    "print(2 + True)\n",
    "print(2 + False)\n",
    "print(type(1 + 2))\n",
    "print(type(1 + 2.5))"
   ]
  },
  {
   "cell_type": "markdown",
   "id": "58363824",
   "metadata": {},
   "source": [
    "# Numeros"
   ]
  },
  {
   "cell_type": "code",
   "execution_count": 27,
   "id": "2d9c7506",
   "metadata": {},
   "outputs": [
    {
     "name": "stdout",
     "output_type": "stream",
     "text": [
      "2.0\n",
      "7.5\n",
      "12.5\n",
      "<class 'int'>\n",
      "<class 'float'>\n",
      "<class 'float'>\n",
      "False\n",
      "True\n",
      "5\n",
      "5\n",
      "2\n",
      "2\n",
      "3.6\n"
     ]
    },
    {
     "data": {
      "text/plain": [
       "3.6"
      ]
     },
     "execution_count": 27,
     "metadata": {},
     "output_type": "execute_result"
    }
   ],
   "source": [
    "# dir(int)\n",
    "# dir(float)\n",
    "\n",
    "a = 5\n",
    "b = 2.5\n",
    "\n",
    "print(a / b)\n",
    "print(a + b)\n",
    "print(a * b)\n",
    "\n",
    "print(type(a))\n",
    "print(type(b))\n",
    "print(type(a - b))\n",
    "\n",
    "print(b.is_integer())\n",
    "print(5.0.is_integer())\n",
    "\n",
    "print(int.__add__(2, 3))\n",
    "print(2 + 3)\n",
    "\n",
    "print((-2).__abs__())\n",
    "print(abs(-2))\n",
    "\n",
    "print((-3.6).__abs__())\n",
    "print(abs(-3.6))"
   ]
  },
  {
   "cell_type": "code",
   "execution_count": 37,
   "id": "c0f0a986",
   "metadata": {},
   "outputs": [
    {
     "name": "stdout",
     "output_type": "stream",
     "text": [
      "3.3000000000000003\n",
      "0.14\n",
      "0.14\n",
      "7\n",
      "3.3\n"
     ]
    }
   ],
   "source": [
    "print(1.1 + 2.2)\n",
    "from decimal import Decimal, getcontext\n",
    "\n",
    "print(Decimal(1) / Decimal(7))\n",
    "\n",
    "getcontext().prec = 2\n",
    "print(Decimal(1) / Decimal(7))\n",
    "print(Decimal.max(Decimal(1), Decimal(7)))\n",
    "dir(Decimal)\n",
    "\n",
    "print(Decimal(1.1) + Decimal(2.2))"
   ]
  },
  {
   "cell_type": "markdown",
   "id": "a2a21c0b",
   "metadata": {},
   "source": [
    "#  String"
   ]
  },
  {
   "cell_type": "code",
   "execution_count": 49,
   "id": "4398ec78",
   "metadata": {},
   "outputs": [
    {
     "name": "stdout",
     "output_type": "stream",
     "text": [
      "Saulo Pedro\n",
      "S\n",
      "True\n",
      "Teste \" funciona\n",
      "Texto entre apostrofos podem ter \"aspas\"\n",
      "Texto com múltipals\n",
      "    ... linhas\n",
      "Texto com múltiplas\n",
      "\t... linhas\n",
      "Também é possível\n",
      "... com 3 aspas simples\n"
     ]
    }
   ],
   "source": [
    "# dir(str)\n",
    "\n",
    "nome = 'Saulo Pedro'\n",
    "print(nome)\n",
    "print(nome[0])\n",
    "# nome[0] = 'P'\n",
    "# A string é imutavel\n",
    "\n",
    "#'marca d'agua'\n",
    "print(\"Dias D'Avila\" == 'Dias D\\'Avila')\n",
    "texto = 'Texto entre apostrofos podem ter \"aspas\"'\n",
    "print(\"Teste \\\" funciona\")\n",
    "print(texto)\n",
    "\n",
    "doc = \"\"\"Texto com múltipals\n",
    "    ... linhas\"\"\"\n",
    "print(doc)\n",
    "print('Texto com múltiplas\\n\\t... linhas')\n",
    "doc2 = '''Também é possível\n",
    "... com 3 aspas simples'''\n",
    "print(doc2)"
   ]
  },
  {
   "cell_type": "code",
   "execution_count": 53,
   "id": "b6141da0",
   "metadata": {},
   "outputs": [
    {
     "name": "stdout",
     "output_type": "stream",
     "text": [
      "A\n",
      "u\n",
      "u\n",
      "Paula\n",
      "Paula\n",
      "Ana\n",
      "Ana \n",
      "a P\n",
      "1234567890\n",
      "1234567890\n",
      "13579\n",
      "24680\n",
      "0987654321\n",
      "08642\n",
      "aluaP anA\n"
     ]
    }
   ],
   "source": [
    "nome = 'Ana Paula'\n",
    "print(nome[0])\n",
    "print(nome[6])\n",
    "print(nome[-3])\n",
    "print(nome[4:])\n",
    "print(nome[-5:])\n",
    "print(nome[:3])\n",
    "print(nome[:4])\n",
    "print(nome[2:5])\n",
    "\n",
    "numeros = '1234567890'\n",
    "print(numeros)\n",
    "print(numeros[::])\n",
    "print(numeros[::2])\n",
    "print(numeros[1::2])\n",
    "print(numeros[::-1])\n",
    "print(numeros[::-2])\n",
    "\n",
    "print(nome[::-1])"
   ]
  },
  {
   "cell_type": "code",
   "execution_count": 66,
   "id": "fe6b3c2d",
   "metadata": {},
   "outputs": [
    {
     "name": "stdout",
     "output_type": "stream",
     "text": [
      "True\n",
      "True\n",
      "32\n",
      "python é uma linguagem excelente\n",
      "True\n",
      "PYTHON É UMA LINGUAGEM EXCELENTE\n",
      "['PYTHON', 'É', 'UMA', 'LINGUAGEM', 'EXCELENTE']\n",
      "['PYTHON É UMA LINGUAG', 'M ', 'XC', 'L', 'NT', '']\n",
      "Help on method_descriptor:\n",
      "\n",
      "center(self, width, fillchar=' ', /)\n",
      "    Return a centered string of length width.\n",
      "    \n",
      "    Padding is done using the specified fill character (default is a space).\n",
      "\n",
      "None\n"
     ]
    }
   ],
   "source": [
    "frase = 'Python é uma linguagem excelente'\n",
    "print('py' not in frase)\n",
    "print('ing' in frase)\n",
    "\n",
    "print(len(frase))\n",
    "print(frase.lower())\n",
    "print('py' in frase.lower())\n",
    "frase = frase.upper()\n",
    "print(frase)\n",
    "\n",
    "print(frase.split())\n",
    "print(frase.split('E'))\n",
    "\n",
    "dir(str)\n",
    "print(help(str.center))"
   ]
  },
  {
   "cell_type": "code",
   "execution_count": 71,
   "id": "c52ba9b3",
   "metadata": {},
   "outputs": [
    {
     "name": "stdout",
     "output_type": "stream",
     "text": [
      "123 de Oliveira 4\n",
      "123 de Oliveira 4\n",
      "123 de Oliveira 4\n",
      "3\n",
      "3\n",
      "True\n",
      "True\n"
     ]
    }
   ],
   "source": [
    "a = '123'\n",
    "b = ' de Oliveira 4'\n",
    "print(a + b)\n",
    "print(a.__add__(b))\n",
    "print(str.__add__(a, b))\n",
    "\n",
    "print(len(a))\n",
    "print(a.__len__())\n",
    "print('1' in a)\n",
    "print(a.__contains__('1'))"
   ]
  },
  {
   "cell_type": "markdown",
   "id": "e00104ec",
   "metadata": {},
   "source": [
    "# Listas"
   ]
  },
  {
   "cell_type": "code",
   "execution_count": 75,
   "id": "caf8be4d",
   "metadata": {},
   "outputs": [
    {
     "name": "stdout",
     "output_type": "stream",
     "text": [
      "<class 'list'>\n",
      "0\n",
      "[1, 5]\n",
      "2\n",
      "[1, 5, 'Ana', 'Bia']\n",
      "[1, 'Ana', 'Bia']\n",
      "['Bia', 'Ana', 1]\n"
     ]
    }
   ],
   "source": [
    "lista = []\n",
    "print(type(lista))\n",
    "# dir(lista)\n",
    "# help(list)\n",
    "print(len(lista))\n",
    "lista.append(1)\n",
    "lista.append(5)\n",
    "print(lista)\n",
    "print(len(lista))\n",
    "\n",
    "nova_lista = [1, 5, 'Ana', 'Bia']\n",
    "print(nova_lista)\n",
    "nova_lista.remove(5)\n",
    "print(nova_lista)\n",
    "nova_lista.reverse()\n",
    "print(nova_lista)"
   ]
  },
  {
   "cell_type": "code",
   "execution_count": 77,
   "id": "bc96a431",
   "metadata": {},
   "outputs": [
    {
     "name": "stdout",
     "output_type": "stream",
     "text": [
      "3\n",
      "Rebeca\n",
      "True\n",
      "True\n",
      "True\n",
      "1\n",
      "3.1415\n",
      "3.1415\n",
      "1\n"
     ]
    }
   ],
   "source": [
    "lista = [1, 5, 'Rebeca', 'Guilherme', 3.1415]\n",
    "print(lista.index('Guilherme'))\n",
    "# lista.index(42)\n",
    "print(lista[2])\n",
    "print(1 in lista)\n",
    "print('Rebeca' in lista)\n",
    "print('Pedro' not in lista)\n",
    "print(lista[0])\n",
    "print(lista[4])\n",
    "# lista[5]\n",
    "print(lista[-1])\n",
    "print(lista[-5])"
   ]
  },
  {
   "cell_type": "code",
   "execution_count": 79,
   "id": "1fddb5aa",
   "metadata": {},
   "outputs": [
    {
     "name": "stdout",
     "output_type": "stream",
     "text": [
      "['Lia', 'Rui']\n",
      "['Lia', 'Rui']\n",
      "['Lia', 'Rui', 'Paulo']\n",
      "None\n",
      "['Ana', 'Lia', 'Rui']\n",
      "['Ana', 'Lia', 'Rui', 'Paulo']\n",
      "['Ana', 'Rui']\n",
      "['Paulo', 'Rui', 'Lia', 'Ana']\n",
      "['Ana', 'Lia', 'Paulo']\n",
      "['Ana']\n"
     ]
    }
   ],
   "source": [
    "lista = ['Ana', 'Lia', 'Rui', 'Paulo']\n",
    "print(lista[1:3])\n",
    "print(lista[1:-1])\n",
    "print(print(lista[1:]))\n",
    "print(lista[:-1])\n",
    "print(lista[:])\n",
    "print(lista[::2])\n",
    "print(lista[::-1])\n",
    "del lista[2]\n",
    "print(lista)\n",
    "del lista[1:]\n",
    "print(lista)"
   ]
  },
  {
   "cell_type": "markdown",
   "id": "20317efe",
   "metadata": {},
   "source": [
    "# Tuplas"
   ]
  },
  {
   "cell_type": "code",
   "execution_count": 89,
   "id": "5fad37cf",
   "metadata": {},
   "outputs": [
    {
     "name": "stdout",
     "output_type": "stream",
     "text": [
      "<class 'tuple'>\n",
      "<class 'str'>\n",
      "<class 'tuple'>\n",
      "verde\n",
      "amarelo\n",
      "('amarelo', 'azul')\n",
      "1\n",
      "1\n"
     ]
    }
   ],
   "source": [
    "tupla = tuple()\n",
    "tupla = ()\n",
    "print(type(tupla))\n",
    "# dir(tupla)\n",
    "# help(tupla)\n",
    "tupla = ('um')\n",
    "print(type(tupla))\n",
    "tupla = ('um',)\n",
    "print(type(tupla))\n",
    "tupla[0]\n",
    "# tupla[0] = 'novo'\n",
    "cores = ('verde', 'amarelo', 'azul')\n",
    "print(cores[0])\n",
    "print(cores[1])\n",
    "print(cores[1:])\n",
    "\n",
    "print(cores.index('amarelo'))\n",
    "print(cores.count('azul'))"
   ]
  },
  {
   "cell_type": "markdown",
   "id": "dcc5e300",
   "metadata": {},
   "source": [
    "# Dicionários"
   ]
  },
  {
   "cell_type": "code",
   "execution_count": 97,
   "id": "d6525d35",
   "metadata": {},
   "outputs": [
    {
     "name": "stdout",
     "output_type": "stream",
     "text": [
      "<class 'dict'>\n",
      "3\n",
      "{'nome': 'Prof(a). Ana', 'idade': 38, 'cursos': ['Inglês', 'Português']}\n",
      "Prof(a). Ana\n",
      "38\n",
      "['Inglês', 'Português']\n",
      "Português\n",
      "dict_keys(['nome', 'idade', 'cursos'])\n",
      "dict_values(['Prof(a). Ana', 38, ['Inglês', 'Português']])\n",
      "dict_items([('nome', 'Prof(a). Ana'), ('idade', 38), ('cursos', ['Inglês', 'Português'])])\n",
      "38\n",
      "None\n",
      "None []\n"
     ]
    }
   ],
   "source": [
    "pessoa = {\n",
    "    'nome': 'Prof(a). Ana', \n",
    "    'idade': 38,\n",
    "    'cursos': [\n",
    "        'Inglês',\n",
    "        'Português'\n",
    "    ]\n",
    "}\n",
    "print(type(pessoa))\n",
    "dir(dict)\n",
    "print(len(pessoa))\n",
    "\n",
    "print(pessoa)\n",
    "print(pessoa['nome'])\n",
    "print(pessoa['idade'])\n",
    "print(pessoa['cursos'])\n",
    "print(pessoa['cursos'][1])\n",
    "print(pessoa.keys())\n",
    "print(pessoa.values())\n",
    "print(pessoa.items())\n",
    "print(pessoa.get('idade'))\n",
    "print(pessoa.get('tags'))\n",
    "print(pessoa.get('tags'), [])"
   ]
  },
  {
   "cell_type": "code",
   "execution_count": 99,
   "id": "a8fb1321",
   "metadata": {},
   "outputs": [
    {
     "name": "stdout",
     "output_type": "stream",
     "text": [
      "{'nome': 'Prof(o). Alberto', 'idade': 44, 'cursos': ['React', 'Python', 'Angular']}\n",
      "{'nome': 'Prof(o). Alberto', 'cursos': ['React', 'Python', 'Angular']}\n",
      "{'nome': 'Prof(o). Alberto', 'cursos': ['React', 'Python', 'Angular'], 'idade': 40, 'Sexo': 'M'}\n",
      "{'nome': 'Prof(o). Alberto', 'idade': 40, 'Sexo': 'M'}\n",
      "{}\n"
     ]
    }
   ],
   "source": [
    "pessoa = {\n",
    "    'nome': 'Prof(o). Alberto',\n",
    "    'idade': 43,\n",
    "    'cursos': [\n",
    "        'React',\n",
    "        'Python'\n",
    "    ]\n",
    "}\n",
    "pessoa['idade'] = 44\n",
    "pessoa['cursos'].append('Angular')\n",
    "print(pessoa)\n",
    "pessoa.pop('idade')\n",
    "\n",
    "print(pessoa)\n",
    "pessoa.update({'idade': 40, 'Sexo': 'M'})\n",
    "print(pessoa)\n",
    "del pessoa['cursos']\n",
    "print(pessoa)\n",
    "pessoa.clear()\n",
    "print(pessoa)"
   ]
  },
  {
   "cell_type": "markdown",
   "id": "a1f13137",
   "metadata": {},
   "source": [
    "# Conjuntos"
   ]
  },
  {
   "cell_type": "code",
   "execution_count": 122,
   "id": "c0e9f8a6",
   "metadata": {},
   "outputs": [
    {
     "name": "stdout",
     "output_type": "stream",
     "text": [
      "{1, 2, 3}\n",
      "<class 'set'>\n",
      "{'r', 'd', 'c', '3', 'o'}\n",
      "True True\n",
      "True\n",
      "{1, 2, 3}\n",
      "True\n",
      "True\n",
      "{1, 3}\n",
      "{1}\n",
      "{1, 3}\n"
     ]
    }
   ],
   "source": [
    "a = {1, 2, 3}\n",
    "print(a)\n",
    "print(type(a))\n",
    "a = set('coddddd3r')\n",
    "print(a)\n",
    "print('3' in a, 4 not in a)\n",
    "print({1, 2, 3} == {3, 2, 1, 3})\n",
    "\n",
    "\n",
    "# operações\n",
    "c1 = {1, 2}\n",
    "c2 = {2, 3}\n",
    "c1.union(c2)\n",
    "c1.intersection(c2)\n",
    "c1.update(c2)\n",
    "print(c1)\n",
    "# verificar se é subconjunto\n",
    "print(c2 <= c1)\n",
    "print(c1 >= c2)\n",
    "\n",
    "\n",
    "print({1, 2, 3} - {2})\n",
    "print(c1 - c2)\n",
    "c1 -= {2}\n",
    "print(c1)"
   ]
  },
  {
   "cell_type": "markdown",
   "id": "36669359",
   "metadata": {},
   "source": [
    "# Interpolação"
   ]
  },
  {
   "cell_type": "code",
   "execution_count": 123,
   "id": "4b86eb45",
   "metadata": {},
   "outputs": [
    {
     "name": "stdout",
     "output_type": "stream",
     "text": [
      "Nome: Ana Idade: 30.9 True False\n",
      "Nome: Ana Idade: 30.92\n",
      "Nome: Ana Idade: 30.92 257\n",
      "Nome: Ana Idade: 30.92\n"
     ]
    }
   ],
   "source": [
    "from string import Template\n",
    "\n",
    "nome, idade = 'Ana', 30.92\n",
    "\n",
    "print('Nome: %s Idade: %.1f %r %s' % (nome, idade, True, False)) # mais antiga\n",
    "print('Nome: {0} Idade: {1}'.format(nome, idade)) # python < 3.6\n",
    "print(f'Nome: {nome} Idade: {idade} {2 ** 8 + 1}') # python >= 3.6\n",
    "\n",
    "s = Template('Nome: $nome Idade: $idade')\n",
    "print(s.substitute(nome=nome, idade=idade))"
   ]
  }
 ],
 "metadata": {
  "kernelspec": {
   "display_name": "Python 3 (ipykernel)",
   "language": "python",
   "name": "python3"
  },
  "language_info": {
   "codemirror_mode": {
    "name": "ipython",
    "version": 3
   },
   "file_extension": ".py",
   "mimetype": "text/x-python",
   "name": "python",
   "nbconvert_exporter": "python",
   "pygments_lexer": "ipython3",
   "version": "3.9.13"
  }
 },
 "nbformat": 4,
 "nbformat_minor": 5
}
